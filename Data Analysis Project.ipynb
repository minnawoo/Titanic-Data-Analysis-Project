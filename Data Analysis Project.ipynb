{
 "cells": [
  {
   "cell_type": "markdown",
   "metadata": {},
   "source": [
    "# Survival on the Titanic Analysis\n",
    "\n",
    "* The overall survival rate was **_38%_**, which is higher than what it seemed like in the movie!\n",
    "\n",
    "* **_Children aged <13_** had a much higher chance of survival\n",
    "\n",
    "* Many more **_women_** than **_men_** survived\n",
    "\n",
    "* People travelling with other family members were **_almost 2x more likely to survive_**\n",
    "\n",
    "* Those with **_higher socioeconomic status_** were more likely to survive. I tried to confirm if this was due to the differences in cabin level but the dataset was missing too many cabin records."
   ]
  },
  {
   "cell_type": "markdown",
   "metadata": {
    "nbpresent": {
     "id": "aaf9b5de-ff4b-4256-b7d3-feba853551cb"
    }
   },
   "source": [
    "## Import CSV"
   ]
  },
  {
   "cell_type": "code",
   "execution_count": 1,
   "metadata": {
    "nbpresent": {
     "id": "3e270e4b-9db9-43c5-8af2-bebd68780ee8"
    },
    "scrolled": true
   },
   "outputs": [],
   "source": [
    "import unicodecsv\n",
    "\n",
    "with open('titanic_data.csv', 'rb') as f:\n",
    "    reader = unicodecsv.DictReader(f)\n",
    "    titanic_data = list(reader)\n",
    "    \n",
    "# print(titanic_data[0])"
   ]
  },
  {
   "cell_type": "markdown",
   "metadata": {
    "nbpresent": {
     "id": "35ff7540-16c2-4f37-8507-ec08410deb09"
    }
   },
   "source": [
    "## Clean Data"
   ]
  },
  {
   "cell_type": "markdown",
   "metadata": {
    "nbpresent": {
     "id": "84518072-a428-4db9-978e-e8092f8722d7"
    }
   },
   "source": [
    "### Get Dictionary Keys"
   ]
  },
  {
   "cell_type": "code",
   "execution_count": 2,
   "metadata": {
    "nbpresent": {
     "id": "4e7b075f-6c60-42a8-a13d-6fbe8c65f381"
    }
   },
   "outputs": [
    {
     "name": "stdout",
     "output_type": "stream",
     "text": [
      "PassengerId\n",
      "Survived\n",
      "Pclass\n",
      "Name\n",
      "Sex\n",
      "Age\n",
      "SibSp\n",
      "Parch\n",
      "Ticket\n",
      "Fare\n",
      "Cabin\n",
      "Embarked\n"
     ]
    }
   ],
   "source": [
    "for dict in titanic_data:\n",
    "    for key, value in dict.items():\n",
    "        print(key)\n",
    "    break"
   ]
  },
  {
   "cell_type": "markdown",
   "metadata": {
    "nbpresent": {
     "id": "62208e67-f0b3-45b7-b3d5-df76eab9550d"
    }
   },
   "source": [
    "### Fix Data Types"
   ]
  },
  {
   "cell_type": "code",
   "execution_count": 3,
   "metadata": {
    "nbpresent": {
     "id": "35eb8828-08e1-4801-8061-000598c04dad"
    }
   },
   "outputs": [],
   "source": [
    "# Convert several columns of string data to integers and decimals where appropriate\n",
    "\n",
    "# Function to convert an integer from string type to integer type\n",
    "def parse_maybe_int(i):\n",
    "    if i == None:\n",
    "        return None\n",
    "    elif i == '':\n",
    "        return None\n",
    "    else:\n",
    "        return int(i)\n",
    "\n",
    "# Function to convert a decimal number from string type to float\n",
    "def parse_maybe_float(i):\n",
    "    if i == None:\n",
    "        return None\n",
    "    elif i == '':\n",
    "        return None\n",
    "    else:\n",
    "        return float(i)\n",
    "    \n",
    "for dict in titanic_data:\n",
    "    dict['PassengerId'] = parse_maybe_int(dict['PassengerId'])\n",
    "    dict['Survived'] = parse_maybe_int(dict['Survived'])\n",
    "    dict['Pclass'] = parse_maybe_int(dict['Pclass'])\n",
    "    dict['Age'] = parse_maybe_float(dict['Age'])\n",
    "    dict['SibSp'] = parse_maybe_int(dict['SibSp'])\n",
    "    dict['Parch'] = parse_maybe_int(dict['Parch'])\n",
    "    dict['Fare'] = float((dict['Fare']))\n",
    "\n",
    "# print(titanic_data[0])"
   ]
  },
  {
   "cell_type": "markdown",
   "metadata": {
    "nbpresent": {
     "id": "75445c53-fba7-4664-b2d7-18f702502ef0"
    }
   },
   "source": [
    "## Investigate Data"
   ]
  },
  {
   "cell_type": "code",
   "execution_count": 4,
   "metadata": {
    "nbpresent": {
     "id": "18d588e8-0d66-4ef3-b3f5-4ed89326dca4"
    }
   },
   "outputs": [],
   "source": [
    "import numpy as np\n",
    "import matplotlib.pyplot as plt\n",
    "import pandas as pd\n",
    "import seaborn as sb\n",
    "sb.set()"
   ]
  },
  {
   "cell_type": "markdown",
   "metadata": {
    "nbpresent": {
     "id": "2e7c22c9-ff31-459b-b1f6-5b8f1aa4fe4e"
    }
   },
   "source": [
    "### 1.   Calculate Overall Survival Rate"
   ]
  },
  {
   "cell_type": "code",
   "execution_count": 5,
   "metadata": {
    "nbpresent": {
     "id": "525d3e24-e9c8-4956-aee2-97f4ce5da929"
    },
    "scrolled": false
   },
   "outputs": [
    {
     "name": "stdout",
     "output_type": "stream",
     "text": [
      "Number of deaths: 549\n",
      "Number survived: 342\n",
      "Total: 891\n",
      "Overall survival rate: 38%\n"
     ]
    },
    {
     "data": {
      "image/png": "[encoded data removed]",
      "text/plain": [
       "<Figure size 432x288 with 1 Axes>"
      ]
     },
     "metadata": {},
     "output_type": "display_data"
    }
   ],
   "source": [
    "titanic_df = pd.DataFrame(titanic_data)\n",
    "num_passengers = len(titanic_df)\n",
    "num_deaths = len(titanic_df[titanic_df[\"Survived\"] == 0])\n",
    "num_survived = len(titanic_df[titanic_df[\"Survived\"] == 1])\n",
    "\n",
    "print(\"Number of deaths: {}\\nNumber survived: {}\\nTotal: {}\".format(num_deaths, num_survived, num_passengers))\n",
    "print(\"Overall survival rate: {:.0%}\".format(num_survived/num_passengers))\n",
    "\n",
    "# Pie Chart\n",
    "plt.pie([num_deaths, num_survived], labels=['Dead', 'Survived'],shadow=True, startangle=90, autopct =\"%1.f%%\")\n",
    "plt.title('Dead Versus Survived', fontweight = 'bold')\n",
    "plt.show()"
   ]
  },
  {
   "cell_type": "markdown",
   "metadata": {
    "nbpresent": {
     "id": "4b706e3f-17df-4710-9c10-3ce54cbe0065"
    }
   },
   "source": [
    "**Now let's dive into each variable and see how it correlates to survival:**"
   ]
  },
  {
   "cell_type": "markdown",
   "metadata": {
    "nbpresent": {
     "id": "2ed92310-ee00-4962-a3b1-150dced32148"
    }
   },
   "source": [
    "### 2.   Differences in Socioeconomic Status"
   ]
  },
  {
   "cell_type": "markdown",
   "metadata": {
    "nbpresent": {
     "id": "64bd8a27-df99-4eea-a4c7-5deeed1f7e50"
    }
   },
   "source": [
    "#### Let's first assume that ticket type (first, second, third) is indicator of socioeconomic status (upper, middle, lower). We will test this out later."
   ]
  },
  {
   "cell_type": "code",
   "execution_count": 6,
   "metadata": {
    "nbpresent": {
     "id": "b5146817-bff3-4005-972c-8013e72bc712"
    },
    "scrolled": true
   },
   "outputs": [
    {
     "data": {
      "image/png": "[encoded data removed]",
      "text/plain": [
       "<Figure size 432x288 with 1 Axes>"
      ]
     },
     "metadata": {},
     "output_type": "display_data"
    }
   ],
   "source": [
    "# Calculations using ordered list of dictionaries\n",
    "upper_class_total, middle_class_total, lower_class_total = 0, 0, 0\n",
    "upper_class_survived, middle_class_survived, lower_class_survived = 0, 0, 0\n",
    "\n",
    "for dict in titanic_data:\n",
    "    if dict['Pclass'] == 1:\n",
    "        upper_class_total += 1\n",
    "        if dict[\"Survived\"] == 1:\n",
    "            upper_class_survived += 1\n",
    "    elif dict['Pclass'] == 2:\n",
    "        middle_class_total += 1\n",
    "        if dict[\"Survived\"] == 1:\n",
    "            middle_class_survived += 1\n",
    "    else:\n",
    "        lower_class_total += 1\n",
    "        if dict[\"Survived\"] == 1:\n",
    "            lower_class_survived += 1\n",
    "\n",
    "# Pie Chart\n",
    "passengers_by_ses = upper_class_total/num_passengers, middle_class_total/num_passengers, lower_class_total/num_passengers\n",
    "plt.pie(passengers_by_ses, labels=['Upper Class', 'Middle Class', 'Lower Class'],shadow=True, startangle=90, \\\n",
    "        colors = ['mediumorchid','orange', 'skyblue'], autopct =\"%1.f%%\")\n",
    "plt.title('Passengers By Socioeconomic Status', fontweight=\"bold\")\n",
    "plt.show()"
   ]
  },
  {
   "cell_type": "markdown",
   "metadata": {
    "nbpresent": {
     "id": "0fa4a795-93f2-4f68-bc89-9fa41f5eee8f"
    }
   },
   "source": [
    "The pie chart shows that there are many more passengers with a third class ticket (lower class) than those with a first and second class ticket combined (upper and middle class).\n",
    "\n",
    "Next, let's look at who survived in these categories:"
   ]
  },
  {
   "cell_type": "code",
   "execution_count": 7,
   "metadata": {
    "nbpresent": {
     "id": "3c5b6a3c-b1e6-4d59-a270-51ef2d73a705"
    },
    "scrolled": true
   },
   "outputs": [
    {
     "data": {
      "image/png": "[encoded data removed]",
      "text/plain": [
       "<Figure size 432x288 with 1 Axes>"
      ]
     },
     "metadata": {
      "needs_background": "light"
     },
     "output_type": "display_data"
    }
   ],
   "source": [
    "# Survivors by Socioeconomic Status\n",
    "survivors_by_ses = round(upper_class_survived/upper_class_total,2)*100, \\\n",
    "round(middle_class_survived/middle_class_total,2)*100, \\\n",
    "round(lower_class_survived/lower_class_total,2)*100\n",
    "\n",
    "# Bar Chart\n",
    "plt.bar(['Upper Class', 'Middle Class', 'Lower Class'], survivors_by_ses, \\\n",
    "        color = ['mediumorchid','orange', 'skyblue'], alpha = 0.75)\n",
    "plt.title('Survival By Socioeconomic Status', fontweight = 'bold')\n",
    "plt.ylabel('Percentage Survived')\n",
    "plt.xlabel('Socioeconomic Status')\n",
    "\n",
    "# Bar value labels\n",
    "for a,b in zip([0,1,2], survivors_by_ses):\n",
    "    plt.text(a-.1, b-10, str(b)[:2]+'%', fontweight = 'bold')\n",
    "\n",
    "plt.show()"
   ]
  },
  {
   "cell_type": "markdown",
   "metadata": {
    "nbpresent": {
     "id": "cbd7aeb1-7231-4b78-ac85-537c4735ffd1"
    }
   },
   "source": [
    "The bar graph shows an **obvious difference between the percentage of passengers in each class who survived**.\n",
    "\n",
    "This makes intuitive sense because the lower and middle classes had cabins located on lower levels of the ship."
   ]
  },
  {
   "cell_type": "markdown",
   "metadata": {
    "nbpresent": {
     "id": "b4fd6529-31d7-420e-9af7-5bc1b46c46b4"
    }
   },
   "source": [
    "### Fare by Ticket Class (to check assumption about socioeconomic status divisions)"
   ]
  },
  {
   "cell_type": "code",
   "execution_count": 8,
   "metadata": {
    "nbpresent": {
     "id": "7180844d-6cbf-489c-934d-e0ef6127ea79"
    },
    "scrolled": false
   },
   "outputs": [
    {
     "data": {
      "image/png": "[encoded data removed]",
      "text/plain": [
       "<Figure size 216x360 with 1 Axes>"
      ]
     },
     "metadata": {
      "needs_background": "light"
     },
     "output_type": "display_data"
    }
   ],
   "source": [
    "# Scatterplot of Fare By Ticket Class\n",
    "plt.figure(figsize = (3,5))\n",
    "plt.scatter(titanic_df['Pclass'], titanic_df['Fare'], s= 75, marker = 'x', color = 'gold', alpha = 0.1)\n",
    "plt.xticks(np.arange(1, 4), ['Upper Class', 'Middle Class', 'Lower Class'])\n",
    "plt.title(\"Fare by Ticket Class\", fontweight = 'bold')\n",
    "plt.ylabel('Fare in Dollars')\n",
    "plt.show()"
   ]
  },
  {
   "cell_type": "markdown",
   "metadata": {
    "nbpresent": {
     "id": "7004d706-4aff-4c02-8bed-cc6a620bfa3f"
    }
   },
   "source": [
    "This scatter plot shows that the fare price for middle and lower class tickets were actually of a similar range.\n",
    "\n",
    "It is interesting to see the **large variation in fare prices** for first class tickets.\n",
    "\n",
    "This reveals a limitation to the upper, middle, and lower class divisions that were assumed beforehand. \n",
    "\n",
    "**The ticket type may not be a good indication of socioeconomic status.**\n",
    "\n",
    "Next, we will try using fare as the socioeconomic indicator instead."
   ]
  },
  {
   "cell_type": "markdown",
   "metadata": {
    "nbpresent": {
     "id": "e5e17ae7-21bd-40a7-9440-d3169235fd11"
    }
   },
   "source": [
    "### Survival by Fare"
   ]
  },
  {
   "cell_type": "code",
   "execution_count": 9,
   "metadata": {
    "nbpresent": {
     "id": "2949829e-c636-4fd3-8dc4-c75a8b458c9b"
    },
    "scrolled": true
   },
   "outputs": [
    {
     "data": {
      "image/png": "[encoded data removed]",
      "text/plain": [
       "<Figure size 360x360 with 1 Axes>"
      ]
     },
     "metadata": {
      "needs_background": "light"
     },
     "output_type": "display_data"
    }
   ],
   "source": [
    "# Histogram of all passengers by fare amount and overlay another historgram of survivors by fare amount\n",
    "plt.figure(figsize = (5,5))\n",
    "fares = titanic_df[\"Fare\"]\n",
    "fares_survived = titanic_df[titanic_df[\"Survived\"] == 1][\"Fare\"]\n",
    "plt.hist(fares)\n",
    "plt.hist(fares_survived)\n",
    "plt.title(\"Survivals by Fare\", fontweight = 'bold')\n",
    "plt.xlabel(\"Fare ($)\")\n",
    "plt.ylabel(\"Number of passengers\")\n",
    "plt.legend(['Dead', 'Survivors'])\n",
    "plt.show()"
   ]
  },
  {
   "cell_type": "markdown",
   "metadata": {
    "nbpresent": {
     "id": "fc7a458d-669e-431f-86d0-566eb4ab8b9e"
    }
   },
   "source": [
    "This histogram shows **a low proportion of survivors among those who paid a fare less than $50**.\n",
    "\n",
    "This may be **a better indicator of survival by socioeconomic status than ticket type**.\n",
    "\n",
    "Previously, we assumed that the reason for less survivals for passengers with lower socioeconomic status was because they had cabins in the lower floors of the ship. Next, let's check this assumption."
   ]
  },
  {
   "cell_type": "markdown",
   "metadata": {
    "nbpresent": {
     "id": "8b50dfc1-8314-4e0d-b706-fcec6e6d440b"
    }
   },
   "source": [
    "### Survival by Cabin"
   ]
  },
  {
   "cell_type": "code",
   "execution_count": 10,
   "metadata": {
    "nbpresent": {
     "id": "be390cbb-3d29-44d7-ba91-4fe637fee214"
    },
    "scrolled": true
   },
   "outputs": [
    {
     "name": "stdout",
     "output_type": "stream",
     "text": [
      "We have 204 passengers that have their cabin location recorded.\n",
      "Note that this may be too small of a subset of the original 891 to draw conclusions from.\n"
     ]
    }
   ],
   "source": [
    "survival_by_cabin = titanic_df[titanic_df['Cabin']!=\"\"][['Survived', 'Cabin', 'Pclass', 'Fare']]\n",
    "print(\"We have {} passengers that have their cabin location recorded.\".format(len(survival_by_cabin)))\n",
    "print(\"Note that this may be too small of a subset of the original {} to draw conclusions from.\".format(num_passengers))"
   ]
  },
  {
   "cell_type": "code",
   "execution_count": 11,
   "metadata": {
    "nbpresent": {
     "id": "baf1f951-e894-4ab4-95cd-53528ee73797"
    },
    "scrolled": true
   },
   "outputs": [
    {
     "name": "stdout",
     "output_type": "stream",
     "text": [
      "Let's first take a look at the data to see how it is structured.\n"
     ]
    },
    {
     "data": {
      "text/html": [
       "<div>\n",
       "<style scoped>\n",
       "    .dataframe tbody tr th:only-of-type {\n",
       "        vertical-align: middle;\n",
       "    }\n",
       "\n",
       "    .dataframe tbody tr th {\n",
       "        vertical-align: top;\n",
       "    }\n",
       "\n",
       "    .dataframe thead th {\n",
       "        text-align: right;\n",
       "    }\n",
       "</style>\n",
       "<table border=\"1\" class=\"dataframe\">\n",
       "  <thead>\n",
       "    <tr style=\"text-align: right;\">\n",
       "      <th></th>\n",
       "      <th>Survived</th>\n",
       "      <th>Cabin</th>\n",
       "      <th>Pclass</th>\n",
       "      <th>Fare</th>\n",
       "    </tr>\n",
       "  </thead>\n",
       "  <tbody>\n",
       "    <tr>\n",
       "      <th>75</th>\n",
       "      <td>0</td>\n",
       "      <td>F G73</td>\n",
       "      <td>3</td>\n",
       "      <td>7.6500</td>\n",
       "    </tr>\n",
       "    <tr>\n",
       "      <th>88</th>\n",
       "      <td>1</td>\n",
       "      <td>C23 C25 C27</td>\n",
       "      <td>1</td>\n",
       "      <td>263.0000</td>\n",
       "    </tr>\n",
       "    <tr>\n",
       "      <th>92</th>\n",
       "      <td>0</td>\n",
       "      <td>E31</td>\n",
       "      <td>1</td>\n",
       "      <td>61.1750</td>\n",
       "    </tr>\n",
       "    <tr>\n",
       "      <th>96</th>\n",
       "      <td>0</td>\n",
       "      <td>A5</td>\n",
       "      <td>1</td>\n",
       "      <td>34.6542</td>\n",
       "    </tr>\n",
       "    <tr>\n",
       "      <th>97</th>\n",
       "      <td>1</td>\n",
       "      <td>D10 D12</td>\n",
       "      <td>1</td>\n",
       "      <td>63.3583</td>\n",
       "    </tr>\n",
       "    <tr>\n",
       "      <th>102</th>\n",
       "      <td>0</td>\n",
       "      <td>D26</td>\n",
       "      <td>1</td>\n",
       "      <td>77.2875</td>\n",
       "    </tr>\n",
       "    <tr>\n",
       "      <th>110</th>\n",
       "      <td>0</td>\n",
       "      <td>C110</td>\n",
       "      <td>1</td>\n",
       "      <td>52.0000</td>\n",
       "    </tr>\n",
       "    <tr>\n",
       "      <th>118</th>\n",
       "      <td>0</td>\n",
       "      <td>B58 B60</td>\n",
       "      <td>1</td>\n",
       "      <td>247.5208</td>\n",
       "    </tr>\n",
       "    <tr>\n",
       "      <th>123</th>\n",
       "      <td>1</td>\n",
       "      <td>E101</td>\n",
       "      <td>2</td>\n",
       "      <td>13.0000</td>\n",
       "    </tr>\n",
       "    <tr>\n",
       "      <th>124</th>\n",
       "      <td>0</td>\n",
       "      <td>D26</td>\n",
       "      <td>1</td>\n",
       "      <td>77.2875</td>\n",
       "    </tr>\n",
       "  </tbody>\n",
       "</table>\n",
       "</div>"
      ],
      "text/plain": [
       "     Survived        Cabin  Pclass      Fare\n",
       "75          0        F G73       3    7.6500\n",
       "88          1  C23 C25 C27       1  263.0000\n",
       "92          0          E31       1   61.1750\n",
       "96          0           A5       1   34.6542\n",
       "97          1      D10 D12       1   63.3583\n",
       "102         0          D26       1   77.2875\n",
       "110         0         C110       1   52.0000\n",
       "118         0      B58 B60       1  247.5208\n",
       "123         1         E101       2   13.0000\n",
       "124         0          D26       1   77.2875"
      ]
     },
     "execution_count": 11,
     "metadata": {},
     "output_type": "execute_result"
    }
   ],
   "source": [
    "print(\"Let's first take a look at the data to see how it is structured.\")\n",
    "survival_by_cabin[15:25]"
   ]
  },
  {
   "cell_type": "markdown",
   "metadata": {
    "nbpresent": {
     "id": "034d5076-888c-4de0-be12-835f1875d893"
    }
   },
   "source": [
    "From a quick glance through the full table, there are records that have multiple cabins listed under one passenger.\n",
    "\n",
    "What is the maximum number of cabins one passenger can have? Does it explain the larger fares that we were previously surprised about?\n",
    "\n",
    "Let's look at the records that have mutiple cabins under one passenger:"
   ]
  },
  {
   "cell_type": "code",
   "execution_count": 12,
   "metadata": {
    "nbpresent": {
     "id": "d63a4cd1-1f43-4fbe-8fb7-1a91d94076c4"
    },
    "scrolled": true
   },
   "outputs": [],
   "source": [
    "# Print out the records that have mutiple cabins under one passenger:\n",
    "max_cabins = 0\n",
    "fare_per_cabin = []\n",
    "for passengerid, row in survival_by_cabin.iterrows():\n",
    "    cabins = row['Cabin'].split(' ')\n",
    "    num_cabins = len(cabins)\n",
    "    if num_cabins > 1:\n",
    "        # print(\"Passenger {} has {} cabins with a class {} ticket and paid ${} for fare\".format(passengerid, row['Cabin'], row['Pclass'], row['Fare']))\n",
    "        fare_per_cabin.append(row['Fare']/num_cabins)\n",
    "    if num_cabins > max_cabins:\n",
    "        max_cabins = num_cabins\n",
    "# print(\"Max number cabins =\", max_cabins)"
   ]
  },
  {
   "cell_type": "markdown",
   "metadata": {},
   "source": [
    "Looking through the full set of prints (which has been commented out for aesthetic reasons), it seems like a combination of F and G cabins always costed $7.65 and were 3rd class tickets.\n",
    "\n",
    "Besides those passengers, the rest of the passengers with multiple cabins all had 1st class tickets.\n",
    "\n",
    "Their cabins all started with the same letter (either B, C, or D).\n",
    "\n",
    "Next, let's see how much each cabin costed:"
   ]
  },
  {
   "cell_type": "code",
   "execution_count": 13,
   "metadata": {},
   "outputs": [
    {
     "name": "stdout",
     "output_type": "stream",
     "text": [
      "\n"
     ]
    },
    {
     "data": {
      "image/png": "[encoded data removed]",
      "text/plain": [
       "<Figure size 432x288 with 1 Axes>"
      ]
     },
     "metadata": {
      "needs_background": "light"
     },
     "output_type": "display_data"
    }
   ],
   "source": [
    "# Draw the Fare-Per-Cabin Histogram\n",
    "fare_per_cabin.sort()\n",
    "plt.hist(fare_per_cabin)\n",
    "plt.title(\"Fare Per Cabin Histogram\", fontweight = 'bold')\n",
    "plt.xlabel(\"Fare ($)\")\n",
    "plt.ylabel(\"Cabins\")\n",
    "print()"
   ]
  },
  {
   "cell_type": "markdown",
   "metadata": {
    "nbpresent": {
     "id": "e25bfbfa-a6bd-4933-87ef-e6e717cef636"
    }
   },
   "source": [
    "It seems like there is still no pattern to the amount of fare paid per cabin.\n",
    "\n",
    "Next, let's plot the cabin level for all passengers and then for all survivors,\n",
    "assuming that the first letter of each cabin (B, C, D, E, F, G) stands for the ship level.\n",
    "\n",
    "Perhaps we will see more survivors in higher levels than lower levels?"
   ]
  },
  {
   "cell_type": "code",
   "execution_count": 14,
   "metadata": {
    "nbpresent": {
     "id": "e6bc2695-1b36-46a2-a2b0-b236b8e17ef4"
    }
   },
   "outputs": [
    {
     "name": "stdout",
     "output_type": "stream",
     "text": [
      "\n"
     ]
    },
    {
     "data": {
      "image/png": "[encoded data removed]",
      "text/plain": [
       "<Figure size 432x288 with 1 Axes>"
      ]
     },
     "metadata": {
      "needs_background": "light"
     },
     "output_type": "display_data"
    }
   ],
   "source": [
    "# Plot histogram of cabin level for all and for survivors\n",
    "survival_by_cabin['Cabin_level'] = survival_by_cabin['Cabin'].str[0]\n",
    "\n",
    "# Sort by Cabin_level first for better plot visualization\n",
    "survival_by_cabin = survival_by_cabin.sort_values(by=['Cabin_level'])\n",
    "cabin_levels_all = list(survival_by_cabin['Cabin_level'])\n",
    "cabin_levels_survived = list(survival_by_cabin[survival_by_cabin['Survived'] == 1]['Cabin_level'])\n",
    "\n",
    "# Plot histgrams\n",
    "plt.style.use('seaborn-deep')\n",
    "fig = plt.figure() \n",
    "ax = fig.add_subplot(111)\n",
    "ax.hist([cabin_levels_all, cabin_levels_survived], label=(\"All\", \"Survivors\"))\n",
    "ax.legend()\n",
    "plt.title(\"Survival by Cabin Level\", fontweight = 'bold', y = 1.05)\n",
    "plt.xlabel(\"Cabin Level (Deck to Bottom Level of Ship)\")\n",
    "plt.ylabel(\"Number of passengers\")\n",
    "print()"
   ]
  },
  {
   "cell_type": "markdown",
   "metadata": {
    "nbpresent": {
     "id": "b1512a61-a671-497e-b2ec-a78fdd5652ce"
    }
   },
   "source": [
    "It doesn't look like there are more survivors from the upper decks compared to the total (blue bars), at least from these records. \n",
    "\n",
    "We can see that there aren't many records in total for the lower levels. Recall from the beginning that only 204 records out of 891 had cabin location(s) specified.\n",
    "\n",
    "We tried, but no concrete insights were found here. Let's move on to analyze another variable on survival — gender:"
   ]
  },
  {
   "cell_type": "markdown",
   "metadata": {
    "nbpresent": {
     "id": "bb715d76-b122-4ae3-9cbd-66674c39a61d"
    }
   },
   "source": [
    "### 3.   Survival by Gender (Male vs. Female)"
   ]
  },
  {
   "cell_type": "code",
   "execution_count": 15,
   "metadata": {
    "nbpresent": {
     "id": "a618bb45-2472-422c-b719-b77ed9e3f990"
    }
   },
   "outputs": [
    {
     "data": {
      "image/png": "[encoded data removed]",
      "text/plain": [
       "<Figure size 432x288 with 1 Axes>"
      ]
     },
     "metadata": {},
     "output_type": "display_data"
    }
   ],
   "source": [
    "num_males, num_females = 0, 0\n",
    "num_surviving_males, num_surviving_females = 0, 0\n",
    "for dict in titanic_data:\n",
    "    if dict['Sex'] == 'male':\n",
    "        num_males += 1\n",
    "        if dict[\"Survived\"] == 1:\n",
    "            num_surviving_males += 1\n",
    "    else:\n",
    "        num_females +=1\n",
    "        if dict[\"Survived\"] == 1:\n",
    "            num_surviving_females += 1\n",
    "\n",
    "# Pie Chart\n",
    "plt.pie([num_males, num_females], labels=['Male', 'Female'],shadow=True, startangle=90, \\\n",
    "        colors = ['deepskyblue','lightcoral'], autopct='%1.f%%')\n",
    "plt.title('Passengers By Gender', fontweight = 'bold')\n",
    "plt.show()"
   ]
  },
  {
   "cell_type": "markdown",
   "metadata": {},
   "source": [
    "About two thirds of passengers on the Titanic were male and about one third were female.\n",
    "\n",
    "Next, let's look at the percentage of survivors of each gender."
   ]
  },
  {
   "cell_type": "code",
   "execution_count": 16,
   "metadata": {
    "nbpresent": {
     "id": "e52e739b-0853-4d47-b577-f7adbd425b1b"
    },
    "scrolled": true
   },
   "outputs": [
    {
     "data": {
      "image/png": "[encoded data removed]",
      "text/plain": [
       "<Figure size 432x288 with 1 Axes>"
      ]
     },
     "metadata": {
      "needs_background": "light"
     },
     "output_type": "display_data"
    }
   ],
   "source": [
    "# Bar Chart of Survival By Gender\n",
    "survivors_by_gender = round(num_surviving_males/num_males,2)*100, round(num_surviving_females/num_females,2)*100\n",
    "plt.bar(['Male', 'Female'], survivors_by_gender, color = ['deepskyblue','lightcoral'])\n",
    "plt.title('Survival By Gender', fontweight = 'bold')\n",
    "plt.ylabel('Percentage Survived')\n",
    "\n",
    "# Bar value labels\n",
    "for a,b in zip([0,1], survivors_by_gender):\n",
    "    plt.text(a-.05, b+1, str(b)[:2]+'%', fontweight = 'bold')\n",
    "\n",
    "plt.show()"
   ]
  },
  {
   "cell_type": "markdown",
   "metadata": {},
   "source": [
    "The bar graph shows **a large difference between the percentage of males vs. females who survived**.\n",
    "\n",
    "This may be because females were prioritized during the evacuation on to lifeboats (as seen from the movie)."
   ]
  },
  {
   "cell_type": "markdown",
   "metadata": {
    "nbpresent": {
     "id": "c49cc711-d8db-499a-ad30-177ef12970fe"
    }
   },
   "source": [
    "### 4.   Survival By Age"
   ]
  },
  {
   "cell_type": "code",
   "execution_count": 17,
   "metadata": {
    "nbpresent": {
     "id": "319973bb-9e41-4c7c-9a44-ea14ac401449"
    }
   },
   "outputs": [
    {
     "data": {
      "image/png": "[encoded data removed]",
      "text/plain": [
       "<Figure size 432x288 with 1 Axes>"
      ]
     },
     "metadata": {
      "needs_background": "light"
     },
     "output_type": "display_data"
    }
   ],
   "source": [
    "age_list = list(titanic_df['Age'].dropna()) # Remove NaN values too\n",
    "survival_by_age = list(titanic_df[titanic_df['Survived'] == 1]['Age'].dropna()) # Remove NaN values too\n",
    "\n",
    "plt.hist(age_list, bins = 80)\n",
    "plt.hist(survival_by_age, bins = 80)\n",
    "plt.xlabel('Age')\n",
    "plt.ylabel('Number of Passengers')\n",
    "plt.title(\"Survivals Overlayed on All Passengers by Age\", fontweight = 'bold')\n",
    "plt.legend(['Total', 'Survivors'])\n",
    "plt.show()"
   ]
  },
  {
   "cell_type": "markdown",
   "metadata": {},
   "source": [
    "This histogram shows an even distribution of survivors to passengers across the different ages.\n",
    "\n",
    "We can see **a larger portion of survivors for children** and a smaller proportion of survivors for adults.\n",
    "\n",
    "This makes intuitive sense because children were prioritized over the adults during the evacuation."
   ]
  },
  {
   "cell_type": "markdown",
   "metadata": {
    "nbpresent": {
     "id": "d7c11a1e-f40c-4325-80d5-6e12581f54bf"
    }
   },
   "source": [
    "#### Use collections library for higher granularity in histogram:"
   ]
  },
  {
   "cell_type": "code",
   "execution_count": 18,
   "metadata": {
    "nbpresent": {
     "id": "80993987-5c05-4359-b2ab-6dbb46cf749a"
    }
   },
   "outputs": [
    {
     "name": "stdout",
     "output_type": "stream",
     "text": [
      "\n"
     ]
    },
    {
     "data": {
      "image/png": "[encoded data removed]",
      "text/plain": [
       "<Figure size 432x288 with 1 Axes>"
      ]
     },
     "metadata": {
      "needs_background": "light"
     },
     "output_type": "display_data"
    }
   ],
   "source": [
    "# Same thing but using collections for higher granularity\n",
    "import collections\n",
    "\n",
    "freq_age_dict = collections.Counter(age_list)\n",
    "freq_survived_dict = collections.Counter(survival_by_age)\n",
    "\n",
    "labels, values = zip(*freq_age_dict.items())\n",
    "indexes = labels\n",
    "width = 1\n",
    "plt.bar(indexes, values, width, color = 'blue')\n",
    "\n",
    "labels, values = zip(*freq_survived_dict.items())\n",
    "indexes = labels\n",
    "width = 1\n",
    "plt.bar(indexes, values, width, color = 'orange')\n",
    "\n",
    "plt.title(\"Survivals Overlayed on All Passengers by Age\", fontweight = 'bold')\n",
    "plt.legend(['Total', 'Survivors'])\n",
    "plt.xlabel('Age')\n",
    "plt.ylabel('Number of Passengers')\n",
    "print()"
   ]
  },
  {
   "cell_type": "markdown",
   "metadata": {},
   "source": [
    "This histogram is more granular and shows that pretty much all infants aboard (under 2 years old) survived."
   ]
  },
  {
   "cell_type": "markdown",
   "metadata": {
    "nbpresent": {
     "id": "3e03448d-f9bd-40e7-80d5-7a440c575024"
    }
   },
   "source": [
    "### Survival by Age Category"
   ]
  },
  {
   "cell_type": "code",
   "execution_count": 19,
   "metadata": {
    "nbpresent": {
     "id": "8958e0c5-7fea-450d-9830-27b1f0a24b00"
    },
    "scrolled": true
   },
   "outputs": [
    {
     "name": "stdout",
     "output_type": "stream",
     "text": [
      "\n"
     ]
    },
    {
     "data": {
      "image/png": "[encoded data removed]",
      "text/plain": [
       "<Figure size 432x288 with 1 Axes>"
      ]
     },
     "metadata": {
      "needs_background": "light"
     },
     "output_type": "display_data"
    }
   ],
   "source": [
    "# Categorize by Age Categories\n",
    "def categorize_by_age(age_list):\n",
    "    age, num_children, num_infants, num_youth, num_adults, num_seniors = 0, 0, 0, 0, 0, 0\n",
    "    for i in range(len(age_list)):\n",
    "        age = age_list[i]\n",
    "        if age < 13:\n",
    "            num_children += 1\n",
    "            if age < 2:\n",
    "                num_infants += 1\n",
    "        elif age < 25:\n",
    "            num_youth += 1\n",
    "        elif age < 60:\n",
    "            num_adults += 1\n",
    "        else:\n",
    "            num_seniors += 1\n",
    "    return [num_infants, num_children, num_youth, num_adults, num_seniors]\n",
    "\n",
    "# Print Bar Chart\n",
    "age_category_counts = categorize_by_age(age_list)\n",
    "age_category_survivals = categorize_by_age(survival_by_age)\n",
    "age_category_labels = ['Infants (0-2)', 'Children (0-12)', 'Youth (13-25)', 'Adults (25-60)', 'Seniors (60+)']\n",
    "\n",
    "plt.bar(age_category_labels, age_category_counts)\n",
    "plt.bar(age_category_labels, age_category_survivals)\n",
    "plt.xticks(age_category_labels, rotation=30, horizontalalignment='right')\n",
    "plt.title(\"Survivals Overlayed on All Passengers by Age Category\", fontweight = 'bold')\n",
    "plt.legend(['Dead', 'Survivors'], loc = 'best')\n",
    "plt.xlabel('Age')\n",
    "plt.ylabel('Number of Passengers')\n",
    "print()"
   ]
  },
  {
   "cell_type": "markdown",
   "metadata": {},
   "source": [
    "From a quick glance, this histogram confirms the above finding that **a much higher portion of infants and children survived than adults**."
   ]
  },
  {
   "cell_type": "markdown",
   "metadata": {
    "nbpresent": {
     "id": "43a93188-ccec-4905-8fb1-c28d7fd70af0"
    }
   },
   "source": [
    "### 5.   Survival by Number of Family Members Aboard"
   ]
  },
  {
   "cell_type": "markdown",
   "metadata": {
    "nbpresent": {
     "id": "3f70c601-cdc2-489d-a5e3-bb5f7011657e"
    }
   },
   "source": [
    "#### Number of Passengers with and without family aboard"
   ]
  },
  {
   "cell_type": "code",
   "execution_count": 20,
   "metadata": {
    "nbpresent": {
     "id": "05e2dc79-c8bf-44c3-8efc-62eb9acdca27"
    }
   },
   "outputs": [
    {
     "name": "stdout",
     "output_type": "stream",
     "text": [
      "283 passengers with siblings or spouses (32%)\n",
      "213 passengers with parents or children (24%)\n",
      "354 passengers with some family (siblings, spouses, parents, or children) (40%)\n",
      "537 passengers with no family (60%)\n"
     ]
    },
    {
     "data": {
      "image/png": "[encoded data removed]",
      "text/plain": [
       "<Figure size 432x288 with 1 Axes>"
      ]
     },
     "metadata": {},
     "output_type": "display_data"
    }
   ],
   "source": [
    "# The dataset has strange categories that we must aggregrate to compare between those with family and those without:\n",
    "\n",
    "sibsp = titanic_df[titanic_df['SibSp'] > 0][['PassengerId', 'SibSp', 'Parch', 'Survived']]\n",
    "parch = titanic_df[titanic_df['Parch'] > 0][['PassengerId', 'SibSp', 'Parch', 'Survived']]\n",
    "\n",
    "# Family: Those with siblings or spouses and those with parents or children\n",
    "family = pd.concat([sibsp, parch]).drop_duplicates()\n",
    "\n",
    "# No family: Those without siblings or spouses or those without parents or children\n",
    "nofamily = titanic_df[titanic_df['SibSp'] + titanic_df['Parch'] == 0][['PassengerId', 'SibSp', 'Parch', 'Survived']]\n",
    "num_sibsp = len(sibsp)\n",
    "num_parch = len(parch)\n",
    "num_family = len(family)\n",
    "num_nofamily = len(nofamily)\n",
    "\n",
    "# Print numbers and percentages\n",
    "print(num_sibsp, \"passengers with siblings or spouses\", \"({:.0%})\".format(num_sibsp/num_passengers))\n",
    "print(num_parch, \"passengers with parents or children\", \"({:.0%})\".format(num_parch/num_passengers))\n",
    "print(num_family, \"passengers with some family (siblings, spouses, parents, or children)\", \"({:.0%})\".format(num_family/num_passengers))\n",
    "print(num_nofamily, \"passengers with no family\", \"({:.0%})\".format(num_nofamily/num_passengers))\n",
    "\n",
    "# Pie chart\n",
    "plt.pie([num_family, num_nofamily], labels=['With Family', 'Not With Family'],shadow=True, startangle=90, \\\n",
    "        colors = ['lawngreen', 'lightsalmon'], autopct='%1.f%%')\n",
    "plt.title('Passengers With Their Family', fontweight = 'bold')\n",
    "plt.show()"
   ]
  },
  {
   "cell_type": "markdown",
   "metadata": {
    "nbpresent": {
     "id": "d145625e-d138-40ca-b329-7961e9aabc7c"
    }
   },
   "source": [
    "### Survival of those with their family versus of those without their family on the Titanic"
   ]
  },
  {
   "cell_type": "code",
   "execution_count": 21,
   "metadata": {
    "nbpresent": {
     "id": "4a3d945f-dc1d-439d-8acd-dbea56643063"
    },
    "scrolled": false
   },
   "outputs": [
    {
     "data": {
      "image/png": "[encoded data removed]",
      "text/plain": [
       "<Figure size 288x360 with 1 Axes>"
      ]
     },
     "metadata": {
      "needs_background": "light"
     },
     "output_type": "display_data"
    }
   ],
   "source": [
    "# Calculate number of survivors in each category\n",
    "family_survivors = family[family['Survived'] == 1]\n",
    "nofamily_survivors = nofamily[nofamily['Survived'] == 1]\n",
    "num_family_survivors = len(family_survivors)\n",
    "num_nofamily_survivors = len(nofamily_survivors)\n",
    "\n",
    "# Survival rate\n",
    "survival_percentage_family = round(num_family_survivors/num_family * 100)\n",
    "survival_percentage_nofamily = round(num_nofamily_survivors/num_nofamily * 100)\n",
    "\n",
    "# Bar chart\n",
    "plt.figure(figsize = (4,5))\n",
    "passenger_numbers = [num_family, num_nofamily]\n",
    "survivor_numbers = [num_family_survivors, num_nofamily_survivors]\n",
    "category_labels = [\"Had family aboard\", \"Had no family aboard\"]\n",
    "plt.bar(category_labels, passenger_numbers, label = 'Dead')\n",
    "plt.bar(category_labels, survivor_numbers, label = 'Survivors')\n",
    "plt.legend(loc = 'best')\n",
    "plt.title(\"Survival of Those With Family vs. Those Without Family Aboard\", fontweight = 'bold', y = 1.05)\n",
    "plt.ylabel('Number of Passengers')\n",
    "\n",
    "# Bar value labels\n",
    "for a,b in zip([0,1], survivor_numbers):\n",
    "    plt.text(a-.08, b+1, str(b), fontweight = 'bold')\n",
    "for a,b in zip([0,1], passenger_numbers):\n",
    "    plt.text(a-.08, b+1, str(b), fontweight = 'bold')\n",
    "    \n",
    "plt.show()"
   ]
  },
  {
   "cell_type": "code",
   "execution_count": 22,
   "metadata": {},
   "outputs": [
    {
     "name": "stdout",
     "output_type": "stream",
     "text": [
      "A sigificant difference was found (p < 0.01)\n",
      "Passengers with family aboard were 1.7 times more likely to survive.\n"
     ]
    }
   ],
   "source": [
    "# Check if the difference is significant\n",
    "from scipy import stats\n",
    "np.random.seed(7654567) # fix seed to get the same result (?)\n",
    "tscore, pvalue = stats.ttest_ind(family['Survived'], nofamily['Survived'], equal_var=False)\n",
    "if pvalue < 0.01:\n",
    "    result = 'A sigificant difference was found (p < 0.01)'\n",
    "elif pvalue < 0.05:\n",
    "    result = 'A sigificant difference was found (p < 0.05)'\n",
    "elif pvalue < 0.1:\n",
    "    result = 'A sigificant difference was not found (p > 0.05)'\n",
    "print(result)\n",
    "\n",
    "# Compare likelihood of survival between the two groups\n",
    "print(\"Passengers with family aboard were\", end=' ')\n",
    "print(survival_percentage_family/survival_percentage_nofamily, end=' ')\n",
    "print(\"times more likely to survive.\")"
   ]
  },
  {
   "cell_type": "markdown",
   "metadata": {},
   "source": [
    "**There is significant difference between the survival of those who had family aboard the Titanic and those who did not (p-value < 0.01).**"
   ]
  },
  {
   "cell_type": "markdown",
   "metadata": {},
   "source": [
    "## Conclusion"
   ]
  },
  {
   "cell_type": "markdown",
   "metadata": {},
   "source": [
    "The results found here are in line with previous research on the likelihood of survival in dangerous journeys, particularly the findings from the [Donner Party tragedy](https://www.history.com/topics/westward-expansion/donner-party) (McCurdy, 1994):\n",
    "\n",
    "|Tragedy                                                              |Titanic           |Donner Party          |\n",
    "|:--------------------------------------------------------------------|:----------------:|:--------------------:|\n",
    "|**Year**                                                             |1909              |1846                  |\n",
    "|**Overall Survival**                                                 |38%               |54%*                  |\n",
    "|**Age Category with the Highest Survival Rate**                      |Children aged <13 |Children aged 6-14    |\n",
    "|**Gender with the Higher Survival Rate**                             |Women             |Women                 |\n",
    "|**Survival Likelihood of Passengers With Family vs. Without Family** |1.7x survival rate|2x survival rate      |\n",
    "\n",
    "<div style=\"text-align: right\">* Out of 83 people</div>\n",
    "\n",
    "**So always try to travel with family! And don't worry about the kids!**"
   ]
  }
 ],
 "metadata": {
  "kernelspec": {
   "display_name": "Python [default]",
   "language": "python",
   "name": "python3"
  },
  "language_info": {
   "codemirror_mode": {
    "name": "ipython",
    "version": 3
   },
   "file_extension": ".py",
   "mimetype": "text/x-python",
   "name": "python",
   "nbconvert_exporter": "python",
   "pygments_lexer": "ipython3",
   "version": "3.6.6"
  }
 },
 "nbformat": 4,
 "nbformat_minor": 2
}
