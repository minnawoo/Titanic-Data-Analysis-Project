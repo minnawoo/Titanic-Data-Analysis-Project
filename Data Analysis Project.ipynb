{
 "cells": [
  {
   "cell_type": "markdown",
   "metadata": {},
   "source": [
    "# Import CSV"
   ]
  },
  {
   "cell_type": "code",
   "execution_count": 834,
   "metadata": {
    "scrolled": true
   },
   "outputs": [
    {
     "name": "stdout",
     "output_type": "stream",
     "text": [
      "OrderedDict([('PassengerId', '1'), ('Survived', '0'), ('Pclass', '3'), ('Name', 'Braund, Mr. Owen Harris'), ('Sex', 'male'), ('Age', '22'), ('SibSp', '1'), ('Parch', '0'), ('Ticket', 'A/5 21171'), ('Fare', '7.25'), ('Cabin', ''), ('Embarked', 'S')])\n"
     ]
    }
   ],
   "source": [
    "import unicodecsv\n",
    "\n",
    "with open('titanic_data.csv', 'rb') as f:\n",
    "    reader = unicodecsv.DictReader(f)\n",
    "    titanic_data = list(reader)\n",
    "    \n",
    "print(titanic_data[0])"
   ]
  },
  {
   "cell_type": "markdown",
   "metadata": {},
   "source": [
    "# Clean Data"
   ]
  },
  {
   "cell_type": "markdown",
   "metadata": {},
   "source": [
    "## Get Dictionary Keys"
   ]
  },
  {
   "cell_type": "code",
   "execution_count": 835,
   "metadata": {},
   "outputs": [
    {
     "name": "stdout",
     "output_type": "stream",
     "text": [
      "PassengerId\n",
      "Survived\n",
      "Pclass\n",
      "Name\n",
      "Sex\n",
      "Age\n",
      "SibSp\n",
      "Parch\n",
      "Ticket\n",
      "Fare\n",
      "Cabin\n",
      "Embarked\n"
     ]
    }
   ],
   "source": [
    "for dict in titanic_data:\n",
    "    for key, value in dict.items():\n",
    "        print(key)\n",
    "    break"
   ]
  },
  {
   "cell_type": "markdown",
   "metadata": {},
   "source": [
    "## Fix Data Types"
   ]
  },
  {
   "cell_type": "code",
   "execution_count": 836,
   "metadata": {},
   "outputs": [
    {
     "name": "stdout",
     "output_type": "stream",
     "text": [
      "OrderedDict([('PassengerId', 1), ('Survived', 0), ('Pclass', 3), ('Name', 'Braund, Mr. Owen Harris'), ('Sex', 'male'), ('Age', 22.0), ('SibSp', 1), ('Parch', 0), ('Ticket', 'A/5 21171'), ('Fare', 7.25), ('Cabin', ''), ('Embarked', 'S')])\n"
     ]
    }
   ],
   "source": [
    "# Convert several columns of string data to integers and decimals where appropriate\n",
    "\n",
    "# Function to convert an integer from string type to integer type\n",
    "def parse_maybe_int(i):\n",
    "    if i == None:\n",
    "        return None\n",
    "    elif i == '':\n",
    "        return None\n",
    "    else:\n",
    "        return int(i)\n",
    "\n",
    "# Function to convert a decimal number from string type to float\n",
    "def parse_maybe_float(i):\n",
    "    if i == None:\n",
    "        return None\n",
    "    elif i == '':\n",
    "        return None\n",
    "    else:\n",
    "        return float(i)\n",
    "    \n",
    "for dict in titanic_data:\n",
    "    dict['PassengerId'] = parse_maybe_int(dict['PassengerId'])\n",
    "    dict['Survived'] = parse_maybe_int(dict['Survived'])\n",
    "    dict['Pclass'] = parse_maybe_int(dict['Pclass'])\n",
    "    dict['Age'] = parse_maybe_float(dict['Age'])\n",
    "    dict['SibSp'] = parse_maybe_int(dict['SibSp'])\n",
    "    dict['Parch'] = parse_maybe_int(dict['Parch'])\n",
    "    dict['Fare'] = float((dict['Fare']))\n",
    "\n",
    "print(titanic_data[0])"
   ]
  },
  {
   "cell_type": "markdown",
   "metadata": {},
   "source": [
    "# Investigate Data"
   ]
  },
  {
   "cell_type": "code",
   "execution_count": 837,
   "metadata": {},
   "outputs": [],
   "source": [
    "import numpy as np\n",
    "import matplotlib.pyplot as plt\n",
    "import pandas as pd\n",
    "import seaborn as sb"
   ]
  },
  {
   "cell_type": "markdown",
   "metadata": {},
   "source": [
    "## 1.   Calculate Overall Survival Rate"
   ]
  },
  {
   "cell_type": "code",
   "execution_count": 838,
   "metadata": {
    "scrolled": true
   },
   "outputs": [
    {
     "name": "stdout",
     "output_type": "stream",
     "text": [
      "Number of deaths: 549\n",
      "Number survived: 342\n",
      "Total: 891\n",
      "Overall survival rate: 38%\n",
      "\n",
      "Check numbers: 549 342 891\n"
     ]
    }
   ],
   "source": [
    "titanic_df = pd.DataFrame(titanic_data)\n",
    "num_passengers = len(titanic_df)\n",
    "num_deaths = len(titanic_df[titanic_df[\"Survived\"] == 0])\n",
    "num_survived = len(titanic_df[titanic_df[\"Survived\"] == 1])\n",
    "\n",
    "print(\"Number of deaths: {}\\nNumber survived: {}\\nTotal: {}\".format(num_deaths, num_survived, num_passengers))\n",
    "print(\"Overall survival rate: {:.0%}\".format(num_survived/num_passengers))\n",
    "\n",
    "# Check numbers using a for-loop to sum up each category\n",
    "deaths, survived, passengers = 0, 0, 0\n",
    "for dict in titanic_data:\n",
    "    if dict[\"Survived\"] == 0:\n",
    "        deaths += 1\n",
    "    else:\n",
    "        survived += 1\n",
    "    passengers += 1\n",
    "    \n",
    "print(\"\\nCheck numbers:\", deaths, survivals, passengers)"
   ]
  },
  {
   "cell_type": "markdown",
   "metadata": {},
   "source": [
    "Now let's dive in to each variable and see how it correlates to survival:"
   ]
  },
  {
   "cell_type": "markdown",
   "metadata": {},
   "source": [
    "## 2.   Differences in Socioeconomic Status"
   ]
  },
  {
   "cell_type": "markdown",
   "metadata": {},
   "source": [
    "### Assume ticket type (first, second, third) as indicator of socioeconomic status (upper, middle, lower)"
   ]
  },
  {
   "cell_type": "code",
   "execution_count": 839,
   "metadata": {
    "scrolled": true
   },
   "outputs": [
    {
     "name": "stdout",
     "output_type": "stream",
     "text": [
      "Number of passengers aboard (upper, middle, lower):\n",
      "216 184 491\n",
      "Percentage of total (upper, middle, lower):\n",
      "24%, 21%, 55%\n",
      "\n"
     ]
    },
    {
     "data": {
      "image/png": "[encoded data removed]",
      "text/plain": [
       "<Figure size 432x288 with 1 Axes>"
      ]
     },
     "metadata": {},
     "output_type": "display_data"
    }
   ],
   "source": [
    "# Calculations\n",
    "upper_class_total, middle_class_total, lower_class_total = 0, 0, 0\n",
    "upper_class_survived, middle_class_survived, lower_class_survived = 0, 0, 0\n",
    "\n",
    "for dict in titanic_data:\n",
    "    if dict['Pclass'] == 1:\n",
    "        upper_class_total += 1\n",
    "        if dict[\"Survived\"] == 1:\n",
    "            upper_class_survived += 1\n",
    "    elif dict['Pclass'] == 2:\n",
    "        middle_class_total += 1\n",
    "        if dict[\"Survived\"] == 1:\n",
    "            middle_class_survived += 1\n",
    "    else:\n",
    "        lower_class_total += 1\n",
    "        if dict[\"Survived\"] == 1:\n",
    "            lower_class_survived += 1\n",
    "\n",
    "# Number of passengers aboard by socioeconomic status\n",
    "print(\"Number of passengers aboard (upper, middle, lower):\")\n",
    "print(upper_class_total, middle_class_total, lower_class_total)\n",
    "print(\"Percentage of total (upper, middle, lower):\")\n",
    "print(\"{:.0%}, {:.0%}, {:.0%}\"\\\n",
    "      .format(upper_class_total/num_passengers, middle_class_total/num_passengers, lower_class_total/num_passengers,))\n",
    "\n",
    "# Pie Chart\n",
    "passengers_by_ses = upper_class_total/num_passengers, middle_class_total/num_passengers, lower_class_total/num_passengers\n",
    "plt.pie(passengers_by_ses, labels=['Upper Class', 'Middle Class', 'Lower Class'],shadow=True, startangle=90, colors = ['blue', 'purple', 'green'])\n",
    "plt.title('Passengers By Socioeconomic Status')\n",
    "print()"
   ]
  },
  {
   "cell_type": "code",
   "execution_count": 840,
   "metadata": {},
   "outputs": [
    {
     "name": "stdout",
     "output_type": "stream",
     "text": [
      "Number of surviving passengers (upper, middle, lower):\n",
      "136 87 119\n",
      "Survival rate for each class (upper, middle, lower):\n",
      "63%, 47%, 24%\n",
      "\n"
     ]
    },
    {
     "data": {
      "image/png": "[encoded data removed]",
      "text/plain": [
       "<Figure size 432x288 with 1 Axes>"
      ]
     },
     "metadata": {
      "needs_background": "light"
     },
     "output_type": "display_data"
    }
   ],
   "source": [
    "# Number of survivors by socioeconomic status\n",
    "print(\"Number of surviving passengers (upper, middle, lower):\")\n",
    "print(upper_class_survived, middle_class_survived, lower_class_survived)\n",
    "print(\"Survival rate for each class (upper, middle, lower):\")\n",
    "print(\"{:.0%}, {:.0%}, {:.0%}\"\\\n",
    "      .format(upper_class_survived/upper_class_total, middle_class_survived/middle_class_total, lower_class_survived/lower_class_total))\n",
    "\n",
    "# Bar Chart\n",
    "survivors_by_ses = upper_class_survived/upper_class_total, middle_class_survived/middle_class_total, lower_class_survived/lower_class_total\n",
    "plt.bar(['Upper Class', 'Middle Class', 'Lower Class'], survivors_by_ses, color = ['blue', 'purple', 'green'])\n",
    "plt.title('Survivors By Socioeconomic Status')\n",
    "plt.ylabel('Survival Rate')\n",
    "print()"
   ]
  },
  {
   "cell_type": "markdown",
   "metadata": {},
   "source": [
    "The bar graph shows an obvious difference between the percentage of passengers in each class who survived.\n",
    "<br>This makes intuitive sense because the lower and middle classes had cabins located on lower levels of the ship."
   ]
  },
  {
   "cell_type": "markdown",
   "metadata": {},
   "source": [
    "The pie chart shows that there are many more passengers with a third class ticket (lower class)\n",
    "<br>than those with a first and second class ticket combined (upper and middle class)."
   ]
  },
  {
   "cell_type": "markdown",
   "metadata": {},
   "source": [
    "## Fare by Ticket Class (to check assumption about socioeconomic status divisions)"
   ]
  },
  {
   "cell_type": "code",
   "execution_count": 841,
   "metadata": {
    "scrolled": true
   },
   "outputs": [
    {
     "name": "stdout",
     "output_type": "stream",
     "text": [
      "\n",
      "This scatter plot shows that the fare price for middle and lower class tickets were actually of a similar range.\n",
      "It is interesting to see the large variation in fare prices for first class tickets.\n"
     ]
    },
    {
     "data": {
      "image/png": "[encoded data removed]",
      "text/plain": [
       "<Figure size 432x288 with 1 Axes>"
      ]
     },
     "metadata": {
      "needs_background": "light"
     },
     "output_type": "display_data"
    }
   ],
   "source": [
    "plt.scatter(titanic_df['Pclass'], titanic_df['Fare'], s= 10)\n",
    "plt.xticks(np.arange(1, 4, 1)) # x-axis tick customization: lower-bound = 1, upper-bound (exclusive) = 4, step = 1\n",
    "plt.title(\"Fare by Ticket Class\")\n",
    "plt.xlabel('Ticket Class (1 = Upper Class, 2 = Middle Class, 3 = Lower Class)')\n",
    "plt.ylabel('Fare in Dollars')\n",
    "print()\n",
    "print(\"This scatter plot shows that the fare price for middle and lower class tickets were actually of a similar range.\\\n",
    "\\nIt is interesting to see the large variation in fare prices for first class tickets.\")"
   ]
  },
  {
   "cell_type": "markdown",
   "metadata": {},
   "source": [
    "This reveals a limitation to the upper, middle, and lower class divisions that were assumed beforehand.\n",
    "<br>The ticket type may not be a good indication of socioeconomic status. Next, we will try using fare as the socioeconomic indicator instead."
   ]
  },
  {
   "cell_type": "markdown",
   "metadata": {},
   "source": [
    "## Survival by Fare"
   ]
  },
  {
   "cell_type": "code",
   "execution_count": 842,
   "metadata": {},
   "outputs": [
    {
     "name": "stdout",
     "output_type": "stream",
     "text": [
      "\n",
      "This histogram shows a low proportion of survivors for those who paid a fare less than $50.\n",
      "This may be a better indicator of survival by socioeconomic status than ticket type.\n"
     ]
    },
    {
     "data": {
      "image/png": "[encoded data removed]",
      "text/plain": [
       "<Figure size 432x288 with 1 Axes>"
      ]
     },
     "metadata": {
      "needs_background": "light"
     },
     "output_type": "display_data"
    }
   ],
   "source": [
    "# Plot a histogram of all passengers by fare amount and overlay another historgram of survivors by fare amount\n",
    "fares = titanic_df[\"Fare\"]\n",
    "fares_survived = titanic_df[titanic_df[\"Survived\"] == 1][\"Fare\"]\n",
    "plt.hist(fares)\n",
    "plt.hist(fares_survived)\n",
    "plt.title(\"Survival by Fare\")\n",
    "plt.xlabel(\"Fare ($)\")\n",
    "plt.ylabel(\"Number of passengers\")\n",
    "plt.legend(['All', 'Survivors'])\n",
    "print()\n",
    "print(\"This histogram shows a low proportion of survivors for those who paid a fare less than $50.\\\n",
    "\\nThis may be a better indicator of survival by socioeconomic status than ticket type.\")"
   ]
  },
  {
   "cell_type": "markdown",
   "metadata": {},
   "source": [
    "Previously, we assumed that the reason for less survivals for passengers with lower socioeconomic status was because they had cabins in the lower floors of the ship. Next, let's check this assumption."
   ]
  },
  {
   "cell_type": "markdown",
   "metadata": {},
   "source": [
    "## Survival by Cabin"
   ]
  },
  {
   "cell_type": "code",
   "execution_count": 843,
   "metadata": {
    "scrolled": true
   },
   "outputs": [
    {
     "name": "stdout",
     "output_type": "stream",
     "text": [
      "We have 204 passengers that have their cabin location recorded.\n",
      "Note that this may be too small of a subset of the original 891 to draw conclusions from.\n"
     ]
    }
   ],
   "source": [
    "survival_by_cabin = titanic_df[titanic_df['Cabin']!=\"\"][['Survived', 'Cabin', 'Pclass', 'Fare']]\n",
    "print(\"We have {} passengers that have their cabin location recorded.\".format(len(survival_by_cabin)))\n",
    "print(\"Note that this may be too small of a subset of the original {} to draw conclusions from.\".format(num_passengers))"
   ]
  },
  {
   "cell_type": "code",
   "execution_count": 844,
   "metadata": {},
   "outputs": [
    {
     "name": "stdout",
     "output_type": "stream",
     "text": [
      "Let's first take a look at the data to see how it is structured.\n",
      "     Survived        Cabin  Pclass      Fare\n",
      "1           1          C85       1   71.2833\n",
      "3           1         C123       1   53.1000\n",
      "6           0          E46       1   51.8625\n",
      "10          1           G6       3   16.7000\n",
      "11          1         C103       1   26.5500\n",
      "21          1          D56       2   13.0000\n",
      "23          1           A6       1   35.5000\n",
      "27          0  C23 C25 C27       1  263.0000\n",
      "31          1          B78       1  146.5208\n",
      "52          1          D33       1   76.7292\n",
      "54          0          B30       1   61.9792\n",
      "55          1          C52       1   35.5000\n",
      "61          1          B28       1   80.0000\n",
      "62          0          C83       1   83.4750\n",
      "66          1          F33       2   10.5000\n",
      "75          0        F G73       3    7.6500\n",
      "88          1  C23 C25 C27       1  263.0000\n",
      "92          0          E31       1   61.1750\n",
      "96          0           A5       1   34.6542\n",
      "97          1      D10 D12       1   63.3583\n",
      "102         0          D26       1   77.2875\n",
      "110         0         C110       1   52.0000\n",
      "118         0      B58 B60       1  247.5208\n",
      "123         1         E101       2   13.0000\n",
      "124         0          D26       1   77.2875\n",
      "128         1        F E69       3   22.3583\n",
      "136         1          D47       1   26.2833\n",
      "137         0         C123       1   53.1000\n",
      "139         0          B86       1   79.2000\n",
      "148         0           F2       2   26.0000\n",
      "..        ...          ...     ...       ...\n",
      "751         1         E121       3   12.4750\n",
      "759         1          B77       1   86.5000\n",
      "763         1      B96 B98       1  120.0000\n",
      "765         1          D11       1   77.9583\n",
      "772         0          E77       2   10.5000\n",
      "776         0          F38       3    7.7500\n",
      "779         1           B3       1  211.3375\n",
      "781         1          B20       1   57.0000\n",
      "782         0           D6       1   30.0000\n",
      "789         0      B82 B84       1   79.2000\n",
      "796         1          D17       1   25.9292\n",
      "802         1      B96 B98       1  120.0000\n",
      "806         0          A36       1    0.0000\n",
      "809         1           E8       1   53.1000\n",
      "815         0         B102       1    0.0000\n",
      "820         1          B69       1   93.5000\n",
      "823         1         E121       3   12.4750\n",
      "829         1          B28       1   80.0000\n",
      "835         1          E49       1   83.1583\n",
      "839         1          C47       1   29.7000\n",
      "849         1          C92       1   89.1042\n",
      "853         1          D28       1   39.4000\n",
      "857         1          E17       1   26.5500\n",
      "862         1          D17       1   25.9292\n",
      "867         0          A24       1   50.4958\n",
      "871         1          D35       1   52.5542\n",
      "872         0  B51 B53 B55       1    5.0000\n",
      "879         1          C50       1   83.1583\n",
      "887         1          B42       1   30.0000\n",
      "889         1         C148       1   30.0000\n",
      "\n",
      "[204 rows x 4 columns]\n"
     ]
    }
   ],
   "source": [
    "print(\"Let's first take a look at the data to see how it is structured.\")\n",
    "print(survival_by_cabin)"
   ]
  },
  {
   "cell_type": "markdown",
   "metadata": {},
   "source": [
    "From a quick glance, there are records that have multiple cabins listed under one passenger.\n",
    "<br>What is the maximum number of cabins one passenger can have? Does it explain the larger fares that we were previously surprised about?\n",
    "<br>Let's print out the records that have mutiple cabins under one passenger:"
   ]
  },
  {
   "cell_type": "code",
   "execution_count": 845,
   "metadata": {},
   "outputs": [
    {
     "name": "stdout",
     "output_type": "stream",
     "text": [
      "Passenger 27 has C23 C25 C27 cabins with a class 1 ticket and paid $263.0 for fare\n",
      "Passenger 75 has F G73 cabins with a class 3 ticket and paid $7.65 for fare\n",
      "Passenger 88 has C23 C25 C27 cabins with a class 1 ticket and paid $263.0 for fare\n",
      "Passenger 97 has D10 D12 cabins with a class 1 ticket and paid $63.3583 for fare\n",
      "Passenger 118 has B58 B60 cabins with a class 1 ticket and paid $247.5208 for fare\n",
      "Passenger 128 has F E69 cabins with a class 3 ticket and paid $22.3583 for fare\n",
      "Passenger 297 has C22 C26 cabins with a class 1 ticket and paid $151.55 for fare\n",
      "Passenger 299 has B58 B60 cabins with a class 1 ticket and paid $247.5208 for fare\n",
      "Passenger 305 has C22 C26 cabins with a class 1 ticket and paid $151.55 for fare\n",
      "Passenger 311 has B57 B59 B63 B66 cabins with a class 1 ticket and paid $262.375 for fare\n",
      "Passenger 341 has C23 C25 C27 cabins with a class 1 ticket and paid $263.0 for fare\n",
      "Passenger 390 has B96 B98 cabins with a class 1 ticket and paid $120.0 for fare\n",
      "Passenger 435 has B96 B98 cabins with a class 1 ticket and paid $120.0 for fare\n",
      "Passenger 438 has C23 C25 C27 cabins with a class 1 ticket and paid $263.0 for fare\n",
      "Passenger 498 has C22 C26 cabins with a class 1 ticket and paid $151.55 for fare\n",
      "Passenger 679 has B51 B53 B55 cabins with a class 1 ticket and paid $512.3292 for fare\n",
      "Passenger 699 has F G63 cabins with a class 3 ticket and paid $7.65 for fare\n",
      "Passenger 700 has C62 C64 cabins with a class 1 ticket and paid $227.525 for fare\n",
      "Passenger 715 has F G73 cabins with a class 3 ticket and paid $7.65 for fare\n",
      "Passenger 742 has B57 B59 B63 B66 cabins with a class 1 ticket and paid $262.375 for fare\n",
      "Passenger 763 has B96 B98 cabins with a class 1 ticket and paid $120.0 for fare\n",
      "Passenger 789 has B82 B84 cabins with a class 1 ticket and paid $79.2 for fare\n",
      "Passenger 802 has B96 B98 cabins with a class 1 ticket and paid $120.0 for fare\n",
      "Passenger 872 has B51 B53 B55 cabins with a class 1 ticket and paid $5.0 for fare\n",
      "Max number cabins = 4\n",
      "\n",
      "It seems like some a combination of F and G cabins always costed $7.65 and were 3rd class tickets.\n",
      "Besides those passengers, the rest with multiple cabins all had 1st class tickets.\n",
      "Their cabins all start with the same letter (either B, C, or D).\n",
      "Let's see how much each cabin costed:\n",
      "\n"
     ]
    },
    {
     "data": {
      "image/png": "[encoded data removed]",
      "text/plain": [
       "<Figure size 432x288 with 1 Axes>"
      ]
     },
     "metadata": {
      "needs_background": "light"
     },
     "output_type": "display_data"
    }
   ],
   "source": [
    "max_cabins = 0\n",
    "fare_per_cabin = []\n",
    "for passengerid, row in survival_by_cabin.iterrows():\n",
    "    cabins = row['Cabin'].split(' ')\n",
    "    num_cabins = len(cabins)\n",
    "    if num_cabins > 1:\n",
    "        print(\"Passenger {} has {} cabins with a class {} ticket and paid ${} for fare\".format(passengerid, row['Cabin'], row['Pclass'], row['Fare']))\n",
    "        fare_per_cabin.append(row['Fare']/num_cabins)\n",
    "    if num_cabins > max_cabins:\n",
    "        max_cabins = num_cabins\n",
    "print(\"Max number cabins =\", max_cabins)\n",
    "print()\n",
    "print(\"It seems like some a combination of F and G cabins always costed $7.65 and were 3rd class tickets.\")\n",
    "print(\"Besides those passengers, the rest with multiple cabins all had 1st class tickets.\")\n",
    "print(\"Their cabins all start with the same letter (either B, C, or D).\")\n",
    "print(\"Let's see how much each cabin costed:\")\n",
    "fare_per_cabin.sort()\n",
    "plt.hist(fare_per_cabin)\n",
    "plt.title(\"Fare Per Cabin\")\n",
    "plt.xlabel(\"Fare ($)\")\n",
    "plt.ylabel(\"Cabins\")\n",
    "print()"
   ]
  },
  {
   "cell_type": "markdown",
   "metadata": {},
   "source": [
    "It seems like there is still no pattern to the amount of fare paid per cabin.\n",
    "<br>Next, let's plot the cabin level for all passengers and then for all survivors,\n",
    "assuming that the first letter of each cabin (B, C, D, E, F, G) stands for the ship level."
   ]
  },
  {
   "cell_type": "code",
   "execution_count": 846,
   "metadata": {},
   "outputs": [
    {
     "name": "stdout",
     "output_type": "stream",
     "text": [
      "\n"
     ]
    },
    {
     "data": {
      "image/png": "[encoded data removed]",
      "text/plain": [
       "<Figure size 432x288 with 1 Axes>"
      ]
     },
     "metadata": {
      "needs_background": "light"
     },
     "output_type": "display_data"
    }
   ],
   "source": [
    "# Next, plot histogram of cabin level for all and for survivors\n",
    "\n",
    "survival_by_cabin['Cabin_level'] = survival_by_cabin['Cabin'].str[0]\n",
    "\n",
    "# Sort by Cabin_level first for better plot visualization\n",
    "survival_by_cabin = survival_by_cabin.sort_values(by=['Cabin_level'])\n",
    "cabin_levels_all = list(survival_by_cabin['Cabin_level'])\n",
    "cabin_levels_survived = list(survival_by_cabin[survival_by_cabin['Survived'] == 1]['Cabin_level'])\n",
    "\n",
    "# Plot histgrams\n",
    "plt.style.use('seaborn-deep')\n",
    "fig = plt.figure() \n",
    "ax = fig.add_subplot(111)\n",
    "ax.hist([cabin_levels_all, cabin_levels_survived], label=(\"All\", \"Survivors\"))\n",
    "ax.legend()\n",
    "plt.title(\"Survival by Cabin Level\", y = 1.05)\n",
    "plt.xlabel(\"Cabin Level (Deck to Bottom Level of Ship)\")\n",
    "plt.ylabel(\"Number of passengers\")\n",
    "print()"
   ]
  },
  {
   "cell_type": "markdown",
   "metadata": {},
   "source": [
    "There does not seem to be a significantly lesser proportion of survivors from lower decks, at least from these records. \n",
    "<br>(Recall from the beginning when we noted the limitation that only 204 records out of 891 had cabin location(s) specified.)"
   ]
  },
  {
   "cell_type": "markdown",
   "metadata": {},
   "source": [
    "Next, let's move on to analyze another variable on survival — gender:"
   ]
  },
  {
   "cell_type": "markdown",
   "metadata": {},
   "source": [
    "## 3.   Survival by Gender (Male vs. Female)"
   ]
  },
  {
   "cell_type": "code",
   "execution_count": 847,
   "metadata": {},
   "outputs": [
    {
     "name": "stdout",
     "output_type": "stream",
     "text": [
      "Number of males and females:\n",
      "577 314\n",
      "65% 35%\n",
      "\n",
      "About two thirds of passengers on the Titanic were male and about one third were female.\n"
     ]
    },
    {
     "data": {
      "image/png": "[encoded data removed]",
      "text/plain": [
       "<Figure size 432x288 with 1 Axes>"
      ]
     },
     "metadata": {},
     "output_type": "display_data"
    }
   ],
   "source": [
    "num_males, num_females = 0, 0\n",
    "num_surviving_males, num_surviving_females = 0, 0\n",
    "for dict in titanic_data:\n",
    "    if dict['Sex'] == 'male':\n",
    "        num_males += 1\n",
    "        if dict[\"Survived\"] == 1:\n",
    "            num_surviving_males += 1\n",
    "    else:\n",
    "        num_females +=1\n",
    "        if dict[\"Survived\"] == 1:\n",
    "            num_surviving_females += 1\n",
    "print(\"Number of males and females:\")\n",
    "print(num_males, num_females)\n",
    "print(\"{:.0%} {:.0%}\".format(num_males/num_passengers, num_females/num_passengers))\n",
    "\n",
    "# Pie Chart\n",
    "plt.pie([num_males, num_females], labels=['Males', 'Females'],shadow=True, startangle=90)\n",
    "plt.title('Passengers By Gender')\n",
    "print()\n",
    "print(\"About two thirds of passengers on the Titanic were male and about one third were female.\")"
   ]
  },
  {
   "cell_type": "code",
   "execution_count": 848,
   "metadata": {},
   "outputs": [
    {
     "name": "stdout",
     "output_type": "stream",
     "text": [
      "Number of surviving males and females:\n",
      "109 233\n",
      "19% 74%\n",
      "\n",
      "The bar graph shows a large difference between the percentage of males vs. females who survived.\n",
      "This makes intuitive sense because females were prioritized during the evacuation on to lifeboats.\n"
     ]
    },
    {
     "data": {
      "image/png": "[encoded data removed]",
      "text/plain": [
       "<Figure size 432x288 with 1 Axes>"
      ]
     },
     "metadata": {
      "needs_background": "light"
     },
     "output_type": "display_data"
    }
   ],
   "source": [
    "print(\"Number of surviving males and females:\")\n",
    "print(num_surviving_males, num_surviving_females)\n",
    "print(\"{:.0%} {:.0%}\".format(num_surviving_males/num_males, num_surviving_females/num_females))\n",
    "\n",
    "# Bar Chart\n",
    "survivors_by_gender = num_surviving_males/num_males, num_surviving_females/num_females\n",
    "plt.bar(['Males', 'Females'], survivors_by_gender, color = ['blue','orange'])\n",
    "plt.title('Survivors By Socioeconomic Status')\n",
    "plt.ylabel('Survival Rate')\n",
    "print()\n",
    "print(\"The bar graph shows a large difference between the percentage of males vs. females who survived.\\\n",
    "\\nThis makes intuitive sense because females were prioritized during the evacuation on to lifeboats.\")"
   ]
  },
  {
   "cell_type": "markdown",
   "metadata": {},
   "source": [
    "## 4.   Survival By Age"
   ]
  },
  {
   "cell_type": "code",
   "execution_count": 849,
   "metadata": {},
   "outputs": [
    {
     "name": "stdout",
     "output_type": "stream",
     "text": [
      "\n",
      "This histogram shows an even distribution of survivors to passengers across the ages.\n",
      "\n",
      "One can see a larger portion of survivors around a child's age and a smaller proportion of survivors for adults.\n",
      "This makes intuitive sense because children were prioritized over adults during the evacuation.\n"
     ]
    },
    {
     "data": {
      "image/png": "[encoded data removed]",
      "text/plain": [
       "<Figure size 432x288 with 1 Axes>"
      ]
     },
     "metadata": {
      "needs_background": "light"
     },
     "output_type": "display_data"
    }
   ],
   "source": [
    "age_list = list(titanic_df['Age'].dropna()) # Remove NaN values too\n",
    "survival_by_age = list(titanic_df[titanic_df['Survived'] == 1]['Age'].dropna()) # Remove NaN values too\n",
    "\n",
    "plt.hist(age_list, bins = 80)\n",
    "plt.hist(survival_by_age, bins = 80)\n",
    "plt.xlabel('Age')\n",
    "plt.ylabel('Number of Passengers')\n",
    "plt.title(\"Survival by Age\")\n",
    "plt.legend(['Total', 'Survivors'])\n",
    "print()\n",
    "print(\"This histogram shows an even distribution of survivors to passengers across the ages.\")\n",
    "print()\n",
    "print(\"One can see a larger portion of survivors around a child's age and a smaller proportion of survivors for adults.\\\n",
    "\\nThis makes intuitive sense because children were prioritized over adults during the evacuation.\")"
   ]
  },
  {
   "cell_type": "markdown",
   "metadata": {},
   "source": [
    "#### Use collections library for higher granularity in histogram"
   ]
  },
  {
   "cell_type": "code",
   "execution_count": 850,
   "metadata": {},
   "outputs": [
    {
     "name": "stdout",
     "output_type": "stream",
     "text": [
      "\n",
      "This histogram is more granular and shows that pretty much all infants abroad survived.\n"
     ]
    },
    {
     "data": {
      "image/png": "[encoded data removed]",
      "text/plain": [
       "<Figure size 432x288 with 1 Axes>"
      ]
     },
     "metadata": {
      "needs_background": "light"
     },
     "output_type": "display_data"
    }
   ],
   "source": [
    "# Same thing but using collections for higher granularity\n",
    "import collections\n",
    "\n",
    "freq_age_dict = collections.Counter(age_list)\n",
    "freq_survived_dict = collections.Counter(survival_by_age)\n",
    "\n",
    "labels, values = zip(*freq_age_dict.items())\n",
    "indexes = labels\n",
    "width = 1\n",
    "plt.bar(indexes, values, width, color = 'blue')\n",
    "\n",
    "labels, values = zip(*freq_survived_dict.items())\n",
    "indexes = labels\n",
    "width = 1\n",
    "plt.bar(indexes, values, width, color = 'orange')\n",
    "\n",
    "plt.title(\"Survival by Age\")\n",
    "plt.legend(['Total', 'Survivors'])\n",
    "plt.xlabel('Age')\n",
    "plt.ylabel('Number of Passengers')\n",
    "print()\n",
    "print(\"This histogram is more granular and shows that pretty much all infants abroad survived.\")"
   ]
  },
  {
   "cell_type": "markdown",
   "metadata": {},
   "source": [
    "## Survival by Age Category"
   ]
  },
  {
   "cell_type": "code",
   "execution_count": 851,
   "metadata": {},
   "outputs": [
    {
     "name": "stdout",
     "output_type": "stream",
     "text": [
      "\n",
      "This histogram confirms the above speculation that a higher proportion of infants and children survived\n",
      "compared to adults.\n"
     ]
    },
    {
     "data": {
      "image/png": "[encoded data removed]",
      "text/plain": [
       "<Figure size 432x288 with 1 Axes>"
      ]
     },
     "metadata": {
      "needs_background": "light"
     },
     "output_type": "display_data"
    }
   ],
   "source": [
    "# Categorize by age\n",
    "def categorize_by_age(age_list):\n",
    "    age, num_children, num_infants, num_youth, num_adults, num_seniors = 0, 0, 0, 0, 0, 0\n",
    "    for i in range(len(age_list)):\n",
    "        age = age_list[i]\n",
    "        if age < 13:\n",
    "            num_children += 1\n",
    "            if age < 2:\n",
    "                num_infants += 1\n",
    "        elif age < 25:\n",
    "            num_youth += 1\n",
    "        elif age < 60:\n",
    "            num_adults += 1\n",
    "        else:\n",
    "            num_seniors += 1\n",
    "    return [num_infants, num_children, num_youth, num_adults, num_seniors]\n",
    "\n",
    "age_category_counts = categorize_by_age(age_list)\n",
    "age_category_survivals = categorize_by_age(survival_by_age)\n",
    "age_category_labels = ['Infants (0-2)', 'Children (0-12)', 'Youth (13-25)', 'Adults (25-60)', 'Seniors (60+)']\n",
    "\n",
    "plt.bar(age_category_labels, age_category_counts)\n",
    "plt.bar(age_category_labels, age_category_survivals)\n",
    "plt.xticks(age_category_labels, rotation=30, horizontalalignment='right')\n",
    "plt.title(\"Survival by Age Category\")\n",
    "plt.legend(['Total', 'Survivors'])\n",
    "plt.xlabel('Age')\n",
    "plt.ylabel('Number of Passengers')\n",
    "print()\n",
    "print(\"This histogram confirms the above speculation that a higher proportion of infants and children survived\\\n",
    "\\ncompared to adults.\")"
   ]
  },
  {
   "cell_type": "markdown",
   "metadata": {},
   "source": [
    "## 5.   Survival by Number of Family Members Aboard"
   ]
  },
  {
   "cell_type": "markdown",
   "metadata": {},
   "source": [
    "### Number of Passengers with and without family aboard"
   ]
  },
  {
   "cell_type": "code",
   "execution_count": 852,
   "metadata": {},
   "outputs": [
    {
     "name": "stdout",
     "output_type": "stream",
     "text": [
      "Number of passengers with siblings or spouses: 283 (32%)\n",
      "Number of passengers with parents or children: 213 (24%)\n",
      "\n",
      "Number of passengers with family (siblings, spouses, parents, or children): 354 (40%)\n",
      "Number of passengers with no family: 537 (60%)\n",
      "\n"
     ]
    },
    {
     "data": {
      "image/png": "[encoded data removed]",
      "text/plain": [
       "<Figure size 432x288 with 1 Axes>"
      ]
     },
     "metadata": {},
     "output_type": "display_data"
    }
   ],
   "source": [
    "# Family:     those with siblings or spouses and those with parents or children\n",
    "# No family:  difference between all and those with family\n",
    "\n",
    "sibsp = titanic_df[titanic_df['SibSp'] > 0][['PassengerId', 'SibSp', 'Parch', 'Survived']]\n",
    "parch = titanic_df[titanic_df['Parch'] > 0][['PassengerId', 'SibSp', 'Parch', 'Survived']]\n",
    "family = pd.concat([sibsp, parch]).drop_duplicates()\n",
    "nofamily = titanic_df[titanic_df['SibSp'] + titanic_df['Parch'] == 0][['PassengerId', 'SibSp', 'Parch', 'Survived']]\n",
    "num_sibsp = len(sibsp)\n",
    "num_parch = len(parch)\n",
    "num_family = len(family)\n",
    "num_nofamily = len(nofamily)\n",
    "\n",
    "print(\"Number of passengers with siblings or spouses:\", num_sibsp, \"({:.0%})\".format(num_sibsp/num_passengers))\n",
    "print(\"Number of passengers with parents or children:\", num_parch, \"({:.0%})\".format(num_parch/num_passengers))\n",
    "print()\n",
    "print(\"Number of passengers with family (siblings, spouses, parents, or children):\", num_family, \"({:.0%})\".format(num_family/num_passengers))\n",
    "print(\"Number of passengers with no family:\", num_nofamily, \"({:.0%})\".format(num_nofamily/num_passengers))\n",
    "\n",
    "# Pie chart\n",
    "plt.pie([num_family, num_nofamily], labels=['With Family', 'Not With Family'],shadow=True, startangle=90)\n",
    "plt.title('Passengers With Their Family')\n",
    "print()"
   ]
  },
  {
   "cell_type": "markdown",
   "metadata": {},
   "source": [
    "## Survival of those with their family versus of those without their family on the Titanic"
   ]
  },
  {
   "cell_type": "code",
   "execution_count": 853,
   "metadata": {
    "scrolled": false
   },
   "outputs": [
    {
     "name": "stdout",
     "output_type": "stream",
     "text": [
      "Number of survivors who had family on the Titanic: 179\n",
      "Number of survivors who did not have family on the Titanic: 163\n",
      "\n",
      "There is a significant difference between the number of survivors who had family aboard\n",
      "and the number of survivors who did not have any family aboard (p-value = 2e-09).\n"
     ]
    },
    {
     "data": {
      "image/png": "[encoded data removed]",
      "text/plain": [
       "<Figure size 432x288 with 1 Axes>"
      ]
     },
     "metadata": {
      "needs_background": "light"
     },
     "output_type": "display_data"
    }
   ],
   "source": [
    "family_survivors = family[family['Survived'] == 1]\n",
    "nofamily_survivors = nofamily[nofamily['Survived'] == 1]\n",
    "num_family_survivors = len(family_survivors)\n",
    "num_nofamily_survivors = len(nofamily_survivors)\n",
    "print(\"Number of survivors who had family on the Titanic:\", num_family_survivors)\n",
    "print(\"Number of survivors who did not have family on the Titanic:\", num_nofamily_survivors)\n",
    "\n",
    "# Bar chart\n",
    "category_labels = [\"Had family aboard\", \"Had no family aboard\"]\n",
    "plt.bar(category_labels, [num_family_survivors, num_nofamily_survivors], color = ['purple', 'green'])\n",
    "plt.title(\"Survival of Those With Family vs. Those Without Family Aboard\", y = 1.05)\n",
    "plt.ylabel('Number of Survivors')\n",
    "print()\n",
    "\n",
    "# Check if difference is significant\n",
    "from scipy import stats\n",
    "np.random.seed(7654567) # fix seed to get the same result (?)\n",
    "tscore, pvalue = stats.ttest_ind(family['Survived'], nofamily['Survived'], equal_var=False)\n",
    "if pvalue < 0.01:\n",
    "    result = 'a'\n",
    "else:\n",
    "    result = 'no'\n",
    "print(\"There is {} significant difference between the number of survivors who had family aboard\\n\\\n",
    "and the number of survivors who did not have any family aboard (p-value = {:.0}).\".format(result, pvalue))"
   ]
  }
 ],
 "metadata": {
  "kernelspec": {
   "display_name": "Python [default]",
   "language": "python",
   "name": "python3"
  },
  "language_info": {
   "codemirror_mode": {
    "name": "ipython",
    "version": 3
   },
   "file_extension": ".py",
   "mimetype": "text/x-python",
   "name": "python",
   "nbconvert_exporter": "python",
   "pygments_lexer": "ipython3",
   "version": "3.6.6"
  }
 },
 "nbformat": 4,
 "nbformat_minor": 2
}
